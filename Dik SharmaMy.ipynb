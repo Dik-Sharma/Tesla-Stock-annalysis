{
 "cells": [
  {
   "cell_type": "markdown",
   "id": "2a87485e",
   "metadata": {},
   "source": [
    "# STOCK PREDICTION USING TESLA STOCK DATASET"
   ]
  },
  {
   "cell_type": "markdown",
   "id": "eee5336f",
   "metadata": {},
   "source": [
    "Name:Dik Sharma\n",
    "USN:1DS22MC029"
   ]
  },
  {
   "cell_type": "code",
   "execution_count": 1,
   "id": "d6123233",
   "metadata": {},
   "outputs": [
    {
     "name": "stderr",
     "output_type": "stream",
     "text": [
      "C:\\Users\\ROG\\anaconda3\\lib\\site-packages\\scipy\\__init__.py:146: UserWarning: A NumPy version >=1.16.5 and <1.23.0 is required for this version of SciPy (detected version 1.24.3\n",
      "  warnings.warn(f\"A NumPy version >={np_minversion} and <{np_maxversion}\"\n"
     ]
    }
   ],
   "source": [
    "import pandas as pd\n",
    "import numpy as np\n",
    "import matplotlib.pyplot as plt\n",
    "from sklearn.preprocessing import MinMaxScaler\n",
    "from sklearn.svm import SVC\n",
    "from sklearn.metrics import accuracy_score\n",
    "from sklearn.neighbors import KNeighborsClassifier\n",
    "from sklearn.ensemble import RandomForestClassifier"
   ]
  },
  {
   "cell_type": "code",
   "execution_count": 2,
   "id": "d4bbb108",
   "metadata": {},
   "outputs": [],
   "source": [
    "import keras\n",
    "from keras.layers import LSTM, Dense, Dropout\n",
    "from sklearn.model_selection import TimeSeriesSplit\n",
    "from sklearn.metrics import mean_squared_error, r2_score\n",
    "import matplotlib. dates as mandates\n",
    "from sklearn.preprocessing import MinMaxScaler\n",
    "from sklearn import linear_model\n",
    "from keras. models import Sequential\n",
    "from keras. layers import Dense\n",
    "import keras. backend as K\n",
    "from keras. callbacks import EarlyStopping\n",
    "from keras. optimizers import Adam\n",
    "from keras. models import load_model\n",
    "from keras. layers import LSTM\n",
    "from tensorflow.keras.utils import plot_model\n",
    "from sklearn.metrics import classification_report"
   ]
  },
  {
   "cell_type": "code",
   "execution_count": 3,
   "id": "fd8b7527",
   "metadata": {},
   "outputs": [
    {
     "data": {
      "text/html": [
       "<div>\n",
       "<style scoped>\n",
       "    .dataframe tbody tr th:only-of-type {\n",
       "        vertical-align: middle;\n",
       "    }\n",
       "\n",
       "    .dataframe tbody tr th {\n",
       "        vertical-align: top;\n",
       "    }\n",
       "\n",
       "    .dataframe thead th {\n",
       "        text-align: right;\n",
       "    }\n",
       "</style>\n",
       "<table border=\"1\" class=\"dataframe\">\n",
       "  <thead>\n",
       "    <tr style=\"text-align: right;\">\n",
       "      <th></th>\n",
       "      <th>Open</th>\n",
       "      <th>High</th>\n",
       "      <th>Low</th>\n",
       "      <th>Close</th>\n",
       "      <th>Adj Close</th>\n",
       "      <th>Volume</th>\n",
       "    </tr>\n",
       "    <tr>\n",
       "      <th>Date</th>\n",
       "      <th></th>\n",
       "      <th></th>\n",
       "      <th></th>\n",
       "      <th></th>\n",
       "      <th></th>\n",
       "      <th></th>\n",
       "    </tr>\n",
       "  </thead>\n",
       "  <tbody>\n",
       "    <tr>\n",
       "      <th>2010-06-29</th>\n",
       "      <td>3.800</td>\n",
       "      <td>5.000</td>\n",
       "      <td>3.508</td>\n",
       "      <td>4.778</td>\n",
       "      <td>4.778</td>\n",
       "      <td>93831500</td>\n",
       "    </tr>\n",
       "    <tr>\n",
       "      <th>2010-06-30</th>\n",
       "      <td>5.158</td>\n",
       "      <td>6.084</td>\n",
       "      <td>4.660</td>\n",
       "      <td>4.766</td>\n",
       "      <td>4.766</td>\n",
       "      <td>85935500</td>\n",
       "    </tr>\n",
       "    <tr>\n",
       "      <th>2010-07-01</th>\n",
       "      <td>5.000</td>\n",
       "      <td>5.184</td>\n",
       "      <td>4.054</td>\n",
       "      <td>4.392</td>\n",
       "      <td>4.392</td>\n",
       "      <td>41094000</td>\n",
       "    </tr>\n",
       "    <tr>\n",
       "      <th>2010-07-02</th>\n",
       "      <td>4.600</td>\n",
       "      <td>4.620</td>\n",
       "      <td>3.742</td>\n",
       "      <td>3.840</td>\n",
       "      <td>3.840</td>\n",
       "      <td>25699000</td>\n",
       "    </tr>\n",
       "    <tr>\n",
       "      <th>2010-07-06</th>\n",
       "      <td>4.000</td>\n",
       "      <td>4.000</td>\n",
       "      <td>3.166</td>\n",
       "      <td>3.222</td>\n",
       "      <td>3.222</td>\n",
       "      <td>34334500</td>\n",
       "    </tr>\n",
       "  </tbody>\n",
       "</table>\n",
       "</div>"
      ],
      "text/plain": [
       "             Open   High    Low  Close  Adj Close    Volume\n",
       "Date                                                       \n",
       "2010-06-29  3.800  5.000  3.508  4.778      4.778  93831500\n",
       "2010-06-30  5.158  6.084  4.660  4.766      4.766  85935500\n",
       "2010-07-01  5.000  5.184  4.054  4.392      4.392  41094000\n",
       "2010-07-02  4.600  4.620  3.742  3.840      3.840  25699000\n",
       "2010-07-06  4.000  4.000  3.166  3.222      3.222  34334500"
      ]
     },
     "execution_count": 3,
     "metadata": {},
     "output_type": "execute_result"
    }
   ],
   "source": [
    "df=pd.read_csv('TSLA.csv',index_col='Date',parse_dates=True,infer_datetime_format=True)\n",
    "df.head()"
   ]
  },
  {
   "cell_type": "code",
   "execution_count": 4,
   "id": "f416bb50",
   "metadata": {},
   "outputs": [
    {
     "name": "stdout",
     "output_type": "stream",
     "text": [
      "Dataframe Shape:  (2956, 6)\n",
      "Null Value Present: False\n"
     ]
    }
   ],
   "source": [
    "print(\"Dataframe Shape: \", df. shape)\n",
    "print(\"Null Value Present:\" , df.isnull().values.any())"
   ]
  },
  {
   "cell_type": "code",
   "execution_count": 5,
   "id": "81816966",
   "metadata": {},
   "outputs": [],
   "source": [
    "df.columns\n",
    "df2=df"
   ]
  },
  {
   "cell_type": "code",
   "execution_count": 6,
   "id": "27fdd9b7",
   "metadata": {},
   "outputs": [
    {
     "name": "stdout",
     "output_type": "stream",
     "text": [
      "            Open-Close  High-Low\n",
      "Date                            \n",
      "2010-06-29      -0.978     1.492\n",
      "2010-06-30       0.392     1.424\n",
      "2010-07-01       0.608     1.130\n",
      "2010-07-02       0.760     0.878\n",
      "2010-07-06       0.778     0.834\n"
     ]
    }
   ],
   "source": [
    "df2['Open-Close'] = df2.Open - df2.Close\n",
    "\n",
    "df2['High-Low'] = df2.High - df2.Low\n",
    "\n",
    "\n",
    "X2 = df2[['Open-Close', 'High-Low']]\n",
    "\n",
    "print(X2.head())"
   ]
  },
  {
   "cell_type": "code",
   "execution_count": 7,
   "id": "57a2616c",
   "metadata": {},
   "outputs": [
    {
     "name": "stdout",
     "output_type": "stream",
     "text": [
      "[0 0 0 ... 1 1 0]\n"
     ]
    }
   ],
   "source": [
    "y2 = np.where(df2['Close'].shift(-1) > df2['Close'], 1, 0)\n",
    "\n",
    "print(y2)"
   ]
  },
  {
   "cell_type": "code",
   "execution_count": 8,
   "id": "95d333a2",
   "metadata": {},
   "outputs": [],
   "source": [
    "split = int(0.9*len(df))\n",
    "\n",
    "# Train data set\n",
    "\n",
    "X_train = X2[:split]\n",
    "\n",
    "y_train = y2[:split]\n",
    "\n",
    "# Test data set\n",
    "\n",
    "X_test = X2[split:]\n",
    "\n",
    "y_test = y2[split:]"
   ]
  },
  {
   "cell_type": "code",
   "execution_count": 9,
   "id": "43cc5416",
   "metadata": {},
   "outputs": [],
   "source": [
    "model = SVC().fit(X_train, y_train)\n",
    "predc=model.predict(X_test)"
   ]
  },
  {
   "cell_type": "code",
   "execution_count": 12,
   "id": "1be8a524",
   "metadata": {},
   "outputs": [
    {
     "name": "stdout",
     "output_type": "stream",
     "text": [
      "SVM Algorithm: \n",
      "Train_data Accuracy: 0.53\n",
      "Test_data Accuracy: 0.50\n",
      "              precision    recall  f1-score   support\n",
      "\n",
      "           0       0.45      0.21      0.28       141\n",
      "           1       0.52      0.77      0.62       155\n",
      "\n",
      "    accuracy                           0.50       296\n",
      "   macro avg       0.49      0.49      0.45       296\n",
      "weighted avg       0.49      0.50      0.46       296\n",
      "\n"
     ]
    }
   ],
   "source": [
    "accuracy_tr = accuracy_score(y_train, model.predict(X_train))\n",
    "accuracy_t = accuracy_score(y_test, model.predict(X_test))\n",
    "\n",
    "valsvm=accuracy_score(y_test, model.predict(X_test))\n",
    "\n",
    "print('SVM Algorithm: ')\n",
    "print ('Train_data Accuracy: %.2f' %accuracy_tr)\n",
    "print ('Test_data Accuracy: %.2f' %accuracy_t)\n",
    "\n",
    "report = classification_report(y_test,model.predict(X_test))\n",
    "print(report)"
   ]
  },
  {
   "cell_type": "code",
   "execution_count": 13,
   "id": "f40f972a",
   "metadata": {},
   "outputs": [
    {
     "name": "stdout",
     "output_type": "stream",
     "text": [
      "Date\n",
      "2010-06-29    1\n",
      "2010-06-30    1\n",
      "2010-07-01    1\n",
      "2010-07-02    1\n",
      "2010-07-06    1\n",
      "             ..\n",
      "2022-03-18    1\n",
      "2022-03-21    1\n",
      "2022-03-22    1\n",
      "2022-03-23    0\n",
      "2022-03-24    1\n",
      "Name: sig, Length: 2956, dtype: int32\n"
     ]
    }
   ],
   "source": [
    "df2['sig'] = model.predict(X2)\n",
    "print(df2['sig'])"
   ]
  },
  {
   "cell_type": "code",
   "execution_count": 15,
   "id": "515db457",
   "metadata": {},
   "outputs": [
    {
     "name": "stdout",
     "output_type": "stream",
     "text": [
      "KNN Algorithm: \n",
      "Train_data Accuracy: 0.60\n",
      "Test_data Accuracy: 0.52\n",
      "              precision    recall  f1-score   support\n",
      "\n",
      "           0       0.48      0.18      0.26       141\n",
      "           1       0.52      0.83      0.64       155\n",
      "\n",
      "    accuracy                           0.52       296\n",
      "   macro avg       0.50      0.50      0.45       296\n",
      "weighted avg       0.50      0.52      0.46       296\n",
      "\n"
     ]
    }
   ],
   "source": [
    "knn = KNeighborsClassifier(n_neighbors=15)\n",
    "\n",
    "# fit the model\n",
    "knn.fit(X_train, y_train)\n",
    "\n",
    "valknn=accuracy_score(y_test, knn.predict(X_test))\n",
    "\n",
    "# Accuracy Score\n",
    "accuracy_train = accuracy_score(y_train, knn.predict(X_train))\n",
    "accuracy_test = accuracy_score(y_test, knn.predict(X_test))\n",
    "\n",
    "print('KNN Algorithm: ')\n",
    "print ('Train_data Accuracy: %.2f' %accuracy_train)\n",
    "print ('Test_data Accuracy: %.2f' %accuracy_test)\n",
    "\n",
    "report = classification_report(y_test,knn.predict(X_test))\n",
    "print(report)"
   ]
  },
  {
   "cell_type": "code",
   "execution_count": 17,
   "id": "8346504c",
   "metadata": {},
   "outputs": [
    {
     "name": "stdout",
     "output_type": "stream",
     "text": [
      "Random Forest Algorithm: \n",
      "Correct Prediction (%):  46.62162162162162\n",
      "Train_data Accuracy: 1.00\n",
      "Test_data Accuracy: 0.47\n",
      "              precision    recall  f1-score   support\n",
      "\n",
      "           0       0.41      0.28      0.34       141\n",
      "           1       0.49      0.63      0.55       155\n",
      "\n",
      "    accuracy                           0.47       296\n",
      "   macro avg       0.45      0.46      0.44       296\n",
      "weighted avg       0.45      0.47      0.45       296\n",
      "\n"
     ]
    }
   ],
   "source": [
    "clf=RandomForestClassifier()\n",
    "models = clf.fit(X_train, y_train)\n",
    "from sklearn.metrics import accuracy_score\n",
    "\n",
    "valran=accuracy_score(y_test, models.predict(X_test))\n",
    "\n",
    "accuracy_train = accuracy_score(y_train, models.predict(X_train))\n",
    "accuracy_test = accuracy_score(y_test, models.predict(X_test))\n",
    "\n",
    "print('Random Forest Algorithm: ')\n",
    "print('Correct Prediction (%): ', accuracy_score(y_test, models.predict(X_test), normalize=True)*100.0)\n",
    "print ('Train_data Accuracy: %.2f' %accuracy_train)\n",
    "print ('Test_data Accuracy: %.2f' %accuracy_test)\n",
    "\n",
    "report = classification_report(y_test, models.predict(X_test))\n",
    "print(report)"
   ]
  },
  {
   "cell_type": "code",
   "execution_count": 18,
   "id": "8fa3e83e",
   "metadata": {},
   "outputs": [
    {
     "data": {
      "text/plain": [
       "<AxesSubplot:xlabel='Date'>"
      ]
     },
     "execution_count": 18,
     "metadata": {},
     "output_type": "execute_result"
    },
    {
     "data": {
      "image/png": "[encoded data removed]",
      "text/plain": [
       "<Figure size 432x288 with 1 Axes>"
      ]
     },
     "metadata": {
      "needs_background": "light"
     },
     "output_type": "display_data"
    }
   ],
   "source": [
    "df['Adj Close'].plot()"
   ]
  },
  {
   "cell_type": "code",
   "execution_count": 19,
   "id": "0bf5555d",
   "metadata": {},
   "outputs": [],
   "source": [
    "#Set Target Variable\n",
    "output_var = pd.DataFrame(df['Adj Close'])\n",
    "#Selecting the Features\n",
    "features = ['Open', 'High', 'Low', 'Volume']"
   ]
  },
  {
   "cell_type": "code",
   "execution_count": 20,
   "id": "04d11a71",
   "metadata": {},
   "outputs": [
    {
     "data": {
      "text/html": [
       "<div>\n",
       "<style scoped>\n",
       "    .dataframe tbody tr th:only-of-type {\n",
       "        vertical-align: middle;\n",
       "    }\n",
       "\n",
       "    .dataframe tbody tr th {\n",
       "        vertical-align: top;\n",
       "    }\n",
       "\n",
       "    .dataframe thead th {\n",
       "        text-align: right;\n",
       "    }\n",
       "</style>\n",
       "<table border=\"1\" class=\"dataframe\">\n",
       "  <thead>\n",
       "    <tr style=\"text-align: right;\">\n",
       "      <th></th>\n",
       "      <th>Open</th>\n",
       "      <th>High</th>\n",
       "      <th>Low</th>\n",
       "      <th>Volume</th>\n",
       "    </tr>\n",
       "    <tr>\n",
       "      <th>Date</th>\n",
       "      <th></th>\n",
       "      <th></th>\n",
       "      <th></th>\n",
       "      <th></th>\n",
       "    </tr>\n",
       "  </thead>\n",
       "  <tbody>\n",
       "    <tr>\n",
       "      <th>2010-06-29</th>\n",
       "      <td>0.000465</td>\n",
       "      <td>0.001350</td>\n",
       "      <td>0.000422</td>\n",
       "      <td>0.306605</td>\n",
       "    </tr>\n",
       "    <tr>\n",
       "      <th>2010-06-30</th>\n",
       "      <td>0.001568</td>\n",
       "      <td>0.002224</td>\n",
       "      <td>0.001371</td>\n",
       "      <td>0.280640</td>\n",
       "    </tr>\n",
       "    <tr>\n",
       "      <th>2010-07-01</th>\n",
       "      <td>0.001439</td>\n",
       "      <td>0.001498</td>\n",
       "      <td>0.000871</td>\n",
       "      <td>0.133184</td>\n",
       "    </tr>\n",
       "    <tr>\n",
       "      <th>2010-07-02</th>\n",
       "      <td>0.001114</td>\n",
       "      <td>0.001043</td>\n",
       "      <td>0.000614</td>\n",
       "      <td>0.082560</td>\n",
       "    </tr>\n",
       "    <tr>\n",
       "      <th>2010-07-06</th>\n",
       "      <td>0.000627</td>\n",
       "      <td>0.000543</td>\n",
       "      <td>0.000140</td>\n",
       "      <td>0.110956</td>\n",
       "    </tr>\n",
       "  </tbody>\n",
       "</table>\n",
       "</div>"
      ],
      "text/plain": [
       "                Open      High       Low    Volume\n",
       "Date                                              \n",
       "2010-06-29  0.000465  0.001350  0.000422  0.306605\n",
       "2010-06-30  0.001568  0.002224  0.001371  0.280640\n",
       "2010-07-01  0.001439  0.001498  0.000871  0.133184\n",
       "2010-07-02  0.001114  0.001043  0.000614  0.082560\n",
       "2010-07-06  0.000627  0.000543  0.000140  0.110956"
      ]
     },
     "execution_count": 20,
     "metadata": {},
     "output_type": "execute_result"
    }
   ],
   "source": [
    "scaler = MinMaxScaler()\n",
    "feature_transform = scaler.fit_transform(df[features])\n",
    "feature_transform= pd.DataFrame(columns=features, data=feature_transform, index=df.index)\n",
    "feature_transform.head()"
   ]
  },
  {
   "cell_type": "code",
   "execution_count": 21,
   "id": "97ec5f36",
   "metadata": {},
   "outputs": [],
   "source": [
    "timesplit= TimeSeriesSplit(n_splits=10)\n",
    "for train_index, test_index in timesplit.split(feature_transform):\n",
    "        X_train, X_test = feature_transform[:len(train_index)], feature_transform[len(train_index): (len(train_index)+len(test_index))]\n",
    "        y_train, y_test = output_var[:len(train_index)].values.ravel(), output_var[len(train_index): (len(train_index)+len(test_index))].values.ravel()"
   ]
  },
  {
   "cell_type": "code",
   "execution_count": 22,
   "id": "0f5dc82a",
   "metadata": {},
   "outputs": [],
   "source": [
    "trainX =np.array(X_train)\n",
    "testX =np.array(X_test)\n",
    "X_train = trainX.reshape(X_train.shape[0], 1, X_train.shape[1])\n",
    "X_test = testX.reshape(X_test.shape[0], 1, X_test.shape[1])"
   ]
  },
  {
   "cell_type": "code",
   "execution_count": 23,
   "id": "13dda059",
   "metadata": {},
   "outputs": [
    {
     "name": "stdout",
     "output_type": "stream",
     "text": [
      "You must install pydot (`pip install pydot`) and install graphviz (see instructions at https://graphviz.gitlab.io/download/) for plot_model to work.\n"
     ]
    }
   ],
   "source": [
    "lstm = Sequential()\n",
    "lstm.add(LSTM(32, input_shape=(1, trainX.shape[1]), activation='relu', return_sequences=False))\n",
    "lstm.add(Dense(1))\n",
    "lstm.compile(loss='mean_squared_error', optimizer='adam')\n",
    "plot_model(lstm, show_shapes=True, show_layer_names=True)"
   ]
  },
  {
   "cell_type": "code",
   "execution_count": 24,
   "id": "96d0a453",
   "metadata": {},
   "outputs": [
    {
     "name": "stdout",
     "output_type": "stream",
     "text": [
      "Epoch 1/100\n",
      "336/336 [==============================] - 1s 2ms/step - loss: 21316.3652\n",
      "Epoch 2/100\n",
      "336/336 [==============================] - 1s 2ms/step - loss: 20737.4609\n",
      "Epoch 3/100\n",
      "336/336 [==============================] - 1s 2ms/step - loss: 20167.3594\n",
      "Epoch 4/100\n",
      "336/336 [==============================] - 1s 2ms/step - loss: 19501.8340\n",
      "Epoch 5/100\n",
      "336/336 [==============================] - 0s 1ms/step - loss: 18765.2324\n",
      "Epoch 6/100\n",
      "336/336 [==============================] - 0s 1ms/step - loss: 17994.1562\n",
      "Epoch 7/100\n",
      "336/336 [==============================] - 1s 2ms/step - loss: 17225.9492\n",
      "Epoch 8/100\n",
      "336/336 [==============================] - 0s 1ms/step - loss: 16491.4258\n",
      "Epoch 9/100\n",
      "336/336 [==============================] - 0s 1ms/step - loss: 15811.5205\n",
      "Epoch 10/100\n",
      "336/336 [==============================] - 1s 2ms/step - loss: 15197.0234\n",
      "Epoch 11/100\n",
      "336/336 [==============================] - 0s 1ms/step - loss: 14650.1309\n",
      "Epoch 12/100\n",
      "336/336 [==============================] - 1s 2ms/step - loss: 14166.6367\n",
      "Epoch 13/100\n",
      "336/336 [==============================] - 0s 1ms/step - loss: 13736.9863\n",
      "Epoch 14/100\n",
      "336/336 [==============================] - 1s 2ms/step - loss: 13348.7168\n",
      "Epoch 15/100\n",
      "336/336 [==============================] - 0s 1ms/step - loss: 12991.2812\n",
      "Epoch 16/100\n",
      "336/336 [==============================] - 0s 1ms/step - loss: 12649.5361\n",
      "Epoch 17/100\n",
      "336/336 [==============================] - 0s 1ms/step - loss: 12311.2656\n",
      "Epoch 18/100\n",
      "336/336 [==============================] - 0s 1ms/step - loss: 11967.5186\n",
      "Epoch 19/100\n",
      "336/336 [==============================] - 1s 2ms/step - loss: 11612.7734\n",
      "Epoch 20/100\n",
      "336/336 [==============================] - 0s 1ms/step - loss: 11243.3867\n",
      "Epoch 21/100\n",
      "336/336 [==============================] - 1s 2ms/step - loss: 10857.8633\n",
      "Epoch 22/100\n",
      "336/336 [==============================] - 1s 2ms/step - loss: 10457.5186\n",
      "Epoch 23/100\n",
      "336/336 [==============================] - 0s 1ms/step - loss: 10045.0469\n",
      "Epoch 24/100\n",
      "336/336 [==============================] - 1s 2ms/step - loss: 9623.7178\n",
      "Epoch 25/100\n",
      "336/336 [==============================] - 0s 1ms/step - loss: 9196.9287\n",
      "Epoch 26/100\n",
      "336/336 [==============================] - 0s 1ms/step - loss: 8767.4727\n",
      "Epoch 27/100\n",
      "336/336 [==============================] - 0s 1ms/step - loss: 8337.8770\n",
      "Epoch 28/100\n",
      "336/336 [==============================] - 0s 1ms/step - loss: 7910.0854\n",
      "Epoch 29/100\n",
      "336/336 [==============================] - 0s 1ms/step - loss: 7485.7939\n",
      "Epoch 30/100\n",
      "336/336 [==============================] - 0s 1ms/step - loss: 7066.5288\n",
      "Epoch 31/100\n",
      "336/336 [==============================] - 0s 1ms/step - loss: 6653.6846\n",
      "Epoch 32/100\n",
      "336/336 [==============================] - 0s 1ms/step - loss: 6248.5610\n",
      "Epoch 33/100\n",
      "336/336 [==============================] - 1s 2ms/step - loss: 5852.2500\n",
      "Epoch 34/100\n",
      "336/336 [==============================] - 0s 1ms/step - loss: 5465.9194\n",
      "Epoch 35/100\n",
      "336/336 [==============================] - 1s 2ms/step - loss: 5090.5840\n",
      "Epoch 36/100\n",
      "336/336 [==============================] - 0s 1ms/step - loss: 4727.2700\n",
      "Epoch 37/100\n",
      "336/336 [==============================] - 0s 1ms/step - loss: 4376.8799\n",
      "Epoch 38/100\n",
      "336/336 [==============================] - 1s 2ms/step - loss: 4040.3047\n",
      "Epoch 39/100\n",
      "336/336 [==============================] - 1s 2ms/step - loss: 3718.3140\n",
      "Epoch 40/100\n",
      "336/336 [==============================] - 1s 2ms/step - loss: 3411.6172\n",
      "Epoch 41/100\n",
      "336/336 [==============================] - 1s 2ms/step - loss: 3120.8486\n",
      "Epoch 42/100\n",
      "336/336 [==============================] - 0s 1ms/step - loss: 2846.5566\n",
      "Epoch 43/100\n",
      "336/336 [==============================] - 1s 2ms/step - loss: 2589.2192\n",
      "Epoch 44/100\n",
      "336/336 [==============================] - 1s 2ms/step - loss: 2349.1211\n",
      "Epoch 45/100\n",
      "336/336 [==============================] - 1s 2ms/step - loss: 2126.4917\n",
      "Epoch 46/100\n",
      "336/336 [==============================] - 1s 2ms/step - loss: 1921.3865\n",
      "Epoch 47/100\n",
      "336/336 [==============================] - 1s 2ms/step - loss: 1733.5599\n",
      "Epoch 48/100\n",
      "336/336 [==============================] - 1s 2ms/step - loss: 1562.7411\n",
      "Epoch 49/100\n",
      "336/336 [==============================] - 0s 1ms/step - loss: 1408.2543\n",
      "Epoch 50/100\n",
      "336/336 [==============================] - 0s 1ms/step - loss: 1269.3763\n",
      "Epoch 51/100\n",
      "336/336 [==============================] - 0s 1ms/step - loss: 1145.1246\n",
      "Epoch 52/100\n",
      "336/336 [==============================] - 0s 1ms/step - loss: 1034.3981\n",
      "Epoch 53/100\n",
      "336/336 [==============================] - 0s 1ms/step - loss: 936.0646\n",
      "Epoch 54/100\n",
      "336/336 [==============================] - 0s 1ms/step - loss: 848.9348\n",
      "Epoch 55/100\n",
      "336/336 [==============================] - 0s 1ms/step - loss: 771.8738\n",
      "Epoch 56/100\n",
      "336/336 [==============================] - 0s 1ms/step - loss: 703.7839\n",
      "Epoch 57/100\n",
      "336/336 [==============================] - 0s 1ms/step - loss: 643.6724\n",
      "Epoch 58/100\n",
      "336/336 [==============================] - 0s 1ms/step - loss: 590.6092\n",
      "Epoch 59/100\n",
      "336/336 [==============================] - 0s 1ms/step - loss: 543.8116\n",
      "Epoch 60/100\n",
      "336/336 [==============================] - 0s 1ms/step - loss: 502.5533\n",
      "Epoch 61/100\n",
      "336/336 [==============================] - 0s 1ms/step - loss: 466.1860\n",
      "Epoch 62/100\n",
      "336/336 [==============================] - 0s 1ms/step - loss: 434.0729\n",
      "Epoch 63/100\n",
      "336/336 [==============================] - 0s 1ms/step - loss: 405.6864\n",
      "Epoch 64/100\n",
      "336/336 [==============================] - 0s 1ms/step - loss: 380.5939\n",
      "Epoch 65/100\n",
      "336/336 [==============================] - 0s 1ms/step - loss: 358.3432\n",
      "Epoch 66/100\n",
      "336/336 [==============================] - 0s 1ms/step - loss: 338.5512\n",
      "Epoch 67/100\n",
      "336/336 [==============================] - 0s 1ms/step - loss: 320.9618\n",
      "Epoch 68/100\n",
      "336/336 [==============================] - 0s 1ms/step - loss: 305.3053\n",
      "Epoch 69/100\n",
      "336/336 [==============================] - 0s 1ms/step - loss: 291.2868\n",
      "Epoch 70/100\n",
      "336/336 [==============================] - 0s 1ms/step - loss: 278.6465\n",
      "Epoch 71/100\n",
      "336/336 [==============================] - 0s 1ms/step - loss: 267.2449\n",
      "Epoch 72/100\n",
      "336/336 [==============================] - 0s 1ms/step - loss: 256.9778\n",
      "Epoch 73/100\n",
      "336/336 [==============================] - 0s 1ms/step - loss: 247.6213\n",
      "Epoch 74/100\n",
      "336/336 [==============================] - 0s 1ms/step - loss: 239.1307\n",
      "Epoch 75/100\n",
      "336/336 [==============================] - 0s 1ms/step - loss: 231.3098\n",
      "Epoch 76/100\n",
      "336/336 [==============================] - 0s 1ms/step - loss: 224.0599\n",
      "Epoch 77/100\n",
      "336/336 [==============================] - 0s 1ms/step - loss: 217.3201\n",
      "Epoch 78/100\n",
      "336/336 [==============================] - 1s 2ms/step - loss: 210.9627\n",
      "Epoch 79/100\n",
      "336/336 [==============================] - 1s 1ms/step - loss: 205.0129\n",
      "Epoch 80/100\n",
      "336/336 [==============================] - 0s 1ms/step - loss: 199.5227\n",
      "Epoch 81/100\n",
      "336/336 [==============================] - 0s 1ms/step - loss: 194.2837\n",
      "Epoch 82/100\n",
      "336/336 [==============================] - 0s 1ms/step - loss: 189.3226\n",
      "Epoch 83/100\n",
      "336/336 [==============================] - 0s 1ms/step - loss: 184.4804\n",
      "Epoch 84/100\n",
      "336/336 [==============================] - 0s 1ms/step - loss: 179.7377\n",
      "Epoch 85/100\n",
      "336/336 [==============================] - 0s 1ms/step - loss: 175.1205\n",
      "Epoch 86/100\n",
      "336/336 [==============================] - 0s 1ms/step - loss: 170.6494\n",
      "Epoch 87/100\n",
      "336/336 [==============================] - 0s 1ms/step - loss: 166.1969\n",
      "Epoch 88/100\n",
      "336/336 [==============================] - 0s 1ms/step - loss: 161.8230\n",
      "Epoch 89/100\n",
      "336/336 [==============================] - 0s 1ms/step - loss: 157.4777\n",
      "Epoch 90/100\n",
      "336/336 [==============================] - 0s 1ms/step - loss: 153.1696\n",
      "Epoch 91/100\n",
      "336/336 [==============================] - 0s 1ms/step - loss: 148.8910\n",
      "Epoch 92/100\n",
      "336/336 [==============================] - 0s 1ms/step - loss: 144.6620\n",
      "Epoch 93/100\n",
      "336/336 [==============================] - 0s 1ms/step - loss: 140.4423\n",
      "Epoch 94/100\n",
      "336/336 [==============================] - 0s 1ms/step - loss: 136.2455\n",
      "Epoch 95/100\n",
      "336/336 [==============================] - 0s 1ms/step - loss: 132.0694\n",
      "Epoch 96/100\n",
      "336/336 [==============================] - 0s 1ms/step - loss: 127.9393\n",
      "Epoch 97/100\n",
      "336/336 [==============================] - 0s 1ms/step - loss: 123.8235\n",
      "Epoch 98/100\n",
      "336/336 [==============================] - 0s 1ms/step - loss: 119.7140\n",
      "Epoch 99/100\n",
      "336/336 [==============================] - 0s 1ms/step - loss: 115.6246\n",
      "Epoch 100/100\n",
      "336/336 [==============================] - 0s 1ms/step - loss: 111.5518\n"
     ]
    }
   ],
   "source": [
    "history=lstm.fit(X_train, y_train, epochs=100, batch_size=8, verbose=1, shuffle=False)"
   ]
  },
  {
   "cell_type": "code",
   "execution_count": 25,
   "id": "bbf9ee8b",
   "metadata": {},
   "outputs": [
    {
     "name": "stdout",
     "output_type": "stream",
     "text": [
      "9/9 [==============================] - 0s 1ms/step\n"
     ]
    }
   ],
   "source": [
    "y_pred= lstm.predict(X_test)"
   ]
  },
  {
   "cell_type": "code",
   "execution_count": 26,
   "id": "d6e2c49f",
   "metadata": {},
   "outputs": [
    {
     "data": {
      "text/plain": [
       "0.8779848912328434"
      ]
     },
     "execution_count": 26,
     "metadata": {},
     "output_type": "execute_result"
    }
   ],
   "source": [
    "from sklearn.metrics import r2_score\n",
    "r2=r2_score(y_test,y_pred)\n",
    "r2"
   ]
  },
  {
   "cell_type": "code",
   "execution_count": 27,
   "id": "f82fbe98",
   "metadata": {},
   "outputs": [
    {
     "data": {
      "image/png": "[encoded data removed]",
      "text/plain": [
       "<Figure size 432x288 with 1 Axes>"
      ]
     },
     "metadata": {
      "needs_background": "light"
     },
     "output_type": "display_data"
    }
   ],
   "source": [
    "plt.plot(y_test, label='True Value')\n",
    "plt.plot(y_pred, label='LSTM Value')\n",
    "plt.title(\"Prediction by LSTM\")\n",
    "plt.xlabel('Time Scale')\n",
    "plt.ylabel('Scaled USD')\n",
    "plt.legend()\n",
    "plt.show()\n"
   ]
  },
  {
   "cell_type": "markdown",
   "id": "b707570c",
   "metadata": {},
   "source": [
    "The Opening Value of the stock, the Highest and Lowest values of that stock on the same day, as well as the Closing Value at the end of the day are all indicated for each date. Furthermore, the total volume of the stocks in the market is provided.\n",
    "\n"
   ]
  },
  {
   "cell_type": "code",
   "execution_count": 37,
   "id": "960f2d30",
   "metadata": {},
   "outputs": [
    {
     "data": {
      "image/png": "[encoded data removed]",
      "text/plain": [
       "<Figure size 432x288 with 1 Axes>"
      ]
     },
     "metadata": {
      "needs_background": "light"
     },
     "output_type": "display_data"
    },
    {
     "name": "stdout",
     "output_type": "stream",
     "text": [
      " SVM \t 0.5033783783783784 \n",
      " KNN \t  0.5168918918918919 \n",
      " Random Forest\t 0.46621621621621623\n"
     ]
    }
   ],
   "source": [
    "rm=[valsvm,valknn,valran]\n",
    "rs=['1. SVM','2. KNN','3. Random Forest']\n",
    "plt.bar(rs,rm)\n",
    "plt.ylim(0,0.75)\n",
    "plt.show()\n",
    "print(' SVM \\t',valsvm,'\\n KNN \\t ',valknn,'\\n Random Forest\\t',valran)"
   ]
  },
  {
   "cell_type": "code",
   "execution_count": null,
   "id": "1df38b9d",
   "metadata": {},
   "outputs": [],
   "source": []
  }
 ],
 "metadata": {
  "kernelspec": {
   "display_name": "Python 3 (ipykernel)",
   "language": "python",
   "name": "python3"
  },
  "language_info": {
   "codemirror_mode": {
    "name": "ipython",
    "version": 3
   },
   "file_extension": ".py",
   "mimetype": "text/x-python",
   "name": "python",
   "nbconvert_exporter": "python",
   "pygments_lexer": "ipython3",
   "version": "3.9.7"
  }
 },
 "nbformat": 4,
 "nbformat_minor": 5
}
